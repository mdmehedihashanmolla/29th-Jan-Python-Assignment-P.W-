{
 "cells": [
  {
   "cell_type": "markdown",
   "id": "cc25da3f",
   "metadata": {},
   "source": [
    "### Q1. Who developed Python Programming Language?"
   ]
  },
  {
   "cell_type": "markdown",
   "id": "e2a709af",
   "metadata": {},
   "source": [
    "**Ans = Python programming language was developed by Guido van Rossum in the late 1980s and was first released in 1991.**"
   ]
  },
  {
   "cell_type": "markdown",
   "id": "cfbc3122",
   "metadata": {},
   "source": [
    "### Q2. Which type of Programmig does Python support?"
   ]
  },
  {
   "cell_type": "markdown",
   "id": "46927e1b",
   "metadata": {},
   "source": [
    "**Ans = Python is a flexible language that supports different styles of programming, such as procedural, object-oriented, and functional programming.**"
   ]
  },
  {
   "cell_type": "markdown",
   "id": "b919aca9",
   "metadata": {},
   "source": [
    "### Q3. Is Python case sensitive when dealing with identifiers?"
   ]
  },
  {
   "cell_type": "markdown",
   "id": "dd1b9e54",
   "metadata": {},
   "source": [
    "**Ans = Yes, Python is a case-sensitive language, which means that identifiers with different letter cases are treated as different entities. For example, \"myVar\" and \"myvar\" are two different variables in Python.**"
   ]
  },
  {
   "cell_type": "markdown",
   "id": "37b17e87",
   "metadata": {},
   "source": [
    "### Q4. What is the correct extension of the Python file?"
   ]
  },
  {
   "cell_type": "markdown",
   "id": "69df5b77",
   "metadata": {},
   "source": [
    "**Ans = The correct extension for a Python file is \".py\". This extension is used to identify Python source files and is recognized by the Python interpreter. When you save a Python file, you should use the \".py\" extension at the end of the file name to ensure that it is recognized as a Python source file by your editor or IDE.**"
   ]
  },
  {
   "cell_type": "markdown",
   "id": "25118711",
   "metadata": {},
   "source": [
    "### Q5. Is python code compiled or interpreted?"
   ]
  },
  {
   "cell_type": "markdown",
   "id": "d01078b6",
   "metadata": {},
   "source": [
    "**Ans = Python code is interpreted, which means that the code is executed directly by the Python interpreter without the need for compilation to machine code. When you run a Python program, the interpreter reads the source code, parses it, and executes it line by line. This allows for faster development and testing as you can modify and run the code directly without having to go through a compilation process.**"
   ]
  },
  {
   "cell_type": "markdown",
   "id": "b87a77df",
   "metadata": {},
   "source": [
    "### Q6. Name a few blocks of code used to define in Python Language?"
   ]
  },
  {
   "cell_type": "markdown",
   "id": "53e02181",
   "metadata": {},
   "source": [
    "Ans = In Python, code blocks are defined by their indentation level. The most common blocks of code used in Python are:\n",
    "\n",
    "1. Functions: defined using the \"def\" keyword and a colon, followed by an indented block of code.\n",
    "\n",
    "2. Conditional statements: defined using the \"if\", \"elif\", and \"else\" keywords, followed by a colon and an indented block of code.\n",
    "\n",
    "3. Loops: defined using the \"for\" and \"while\" keywords, followed by a colon and an indented block of code.\n",
    "\n",
    "4. Classes: defined using the \"class\" keyword and a colon, followed by an indented block of code.\n",
    "\n",
    "5. Modules: defined in separate files with a \".py\" extension and contain functions, classes, and variables that can be imported into other Python code using the \"import\" keyword.\n",
    "\n",
    "These code blocks are essential for writing organized and readable code in Python."
   ]
  },
  {
   "cell_type": "markdown",
   "id": "3848bb4c",
   "metadata": {},
   "source": [
    "### Q7. State a character used to give single-line comments in Python?"
   ]
  },
  {
   "cell_type": "markdown",
   "id": "12f2d895",
   "metadata": {},
   "source": [
    "**Ans = In Python, the \"#\" character is used to denote a single-line comment. Any text that appears after the \"#\" character in a line is ignored by the Python interpreter. Single-line comments are useful for adding notes and explanations to your code, and for temporarily disabling code that you don't want to execute.**"
   ]
  },
  {
   "cell_type": "markdown",
   "id": "37908627",
   "metadata": {},
   "source": [
    "### Q8. Mention functions which can help us to find the version of python that we are currently working on ?"
   ]
  },
  {
   "cell_type": "markdown",
   "id": "2d229976",
   "metadata": {},
   "source": [
    "**Ans = The function sys. version can help us to find the version of python that we are currently working on.**"
   ]
  },
  {
   "cell_type": "code",
   "execution_count": 1,
   "id": "bd648836",
   "metadata": {},
   "outputs": [
    {
     "name": "stdout",
     "output_type": "stream",
     "text": [
      "Python version: 3.10.7 (tags/v3.10.7:6cc6b13, Sep  5 2022, 14:08:36) [MSC v.1933 64 bit (AMD64)]\n"
     ]
    }
   ],
   "source": [
    "# Example\n",
    "import sys\n",
    "print(\"Python version:\", sys.version)\n"
   ]
  },
  {
   "cell_type": "markdown",
   "id": "456e9889",
   "metadata": {},
   "source": [
    "### Q9. Python supports the creation of anonymous functions at runtime, using a construct called ________?"
   ]
  },
  {
   "cell_type": "markdown",
   "id": "0dfdd95d",
   "metadata": {},
   "source": [
    "**Ans = Python supports the creation of anonymous functions at runtime, using a construct called \"lambda\" or \"lambda function\".**"
   ]
  },
  {
   "cell_type": "markdown",
   "id": "ba34564e",
   "metadata": {},
   "source": [
    "### Q10. What does pip stand for in  python ?"
   ]
  },
  {
   "cell_type": "markdown",
   "id": "e3662f75",
   "metadata": {},
   "source": [
    "**Ans = pip stands for \"pip installs packages\" or \"Pip Installs Python\". It is a package manager for Python that allows you to easily install, manage, and uninstall Python packages and their dependencies.**"
   ]
  },
  {
   "cell_type": "markdown",
   "id": "1bd9faf3",
   "metadata": {},
   "source": [
    "### Q11. Mention a few built-in function in Python?"
   ]
  },
  {
   "cell_type": "markdown",
   "id": "7e54caea",
   "metadata": {},
   "source": [
    "Ans = some commonly used built-in functions in Python are:\n",
    "\n",
    "    print(): Used to print the specified message to the console or standard output.\n",
    "\n",
    "1. len(): Returns the length of the specified object, such as a string, list, or tuple.\n",
    "\n",
    "2. range(): Generates a sequence of numbers that can be used for loops or other purposes.\n",
    "\n",
    "3. type(): Returns the type of the specified object, such as int, str, or list.\n",
    "\n",
    "4. input(): Prompts the user for input from the console or standard input.\n",
    "\n",
    "5. str(): Converts the specified object to a string.\n",
    "\n",
    "6. int(): Converts the specified object to an integer.\n",
    "\n",
    "7. float(): Converts the specified object to a floating-point number.\n",
    "\n",
    "8. bool(): Returns True or False based on the specified object.\n",
    "\n",
    "9. max(): Returns the maximum value from the specified sequence of numbers or objects.\n",
    "\n",
    "10. min(): Returns the minimum value from the specified sequence of numbers or objects."
   ]
  },
  {
   "cell_type": "markdown",
   "id": "8dd62b39",
   "metadata": {},
   "source": [
    "### Q12. What is the maximum possible length of an identifier in Python?"
   ]
  },
  {
   "cell_type": "markdown",
   "id": "b7c137f3",
   "metadata": {},
   "source": [
    "**Ans  = An identifier can have a maximum length of 79 characters in Python.**"
   ]
  },
  {
   "cell_type": "markdown",
   "id": "5252433d",
   "metadata": {},
   "source": [
    "### Q13. What are the benifits of using Python?"
   ]
  },
  {
   "cell_type": "markdown",
   "id": "2e216911",
   "metadata": {},
   "source": [
    "#### Ans = Python is a popular and versatile programming language that offers many benefits, including:\n",
    "\n",
    "1. Easy to learn: Python has a simple syntax and is easy to read and write, making it an ideal language for beginners.\n",
    "\n",
    "2. Large standard library: Python has a large and comprehensive standard library that provides many useful modules and functions that can be used to develop applications quickly and efficiently.\n",
    "\n",
    "3. Cross-platform compatibility: Python code can run on multiple platforms, including Windows, Linux, and macOS, without any modifications.\n",
    "\n",
    "4. Wide range of applications: Python is used in many different industries and fields, including web development, scientific computing, data analysis, machine learning, and artificial intelligence.\n",
    "\n",
    "5. Third-party modules and packages: Python has a vast ecosystem of third-party modules and packages that can be used to extend its functionality and capabilities.\n",
    "\n",
    "6. Open source: Python is an open-source language, which means that the source code is freely available for use and modification by anyone.\n",
    "\n",
    "7. Large and active community: Python has a large and active community of developers who contribute to its development, provide support, and create useful tools and libraries.\n",
    "\n"
   ]
  },
  {
   "cell_type": "markdown",
   "id": "c4b456bc",
   "metadata": {},
   "source": [
    "### Q14. How is memory managed in Python?"
   ]
  },
  {
   "cell_type": "markdown",
   "id": "74a20b48",
   "metadata": {},
   "source": [
    "**Ans = In Python, all objects and data structures are stored in a private heap, which is managed internally by the Python memory manager. The memory manager is responsible for allocating and deallocating memory for objects as needed, as well as managing the private heap to prevent memory leaks and ensure optimal memory usage.\n",
    "Python's memory manager uses techniques such as reference counting, garbage collection, and memory pooling to manage memory efficiently and automatically, allowing developers to focus on writing code rather than managing memory.**"
   ]
  },
  {
   "cell_type": "markdown",
   "id": "89ebeb15",
   "metadata": {},
   "source": [
    "### Q15. How to install Python on Windows and set path variables?"
   ]
  },
  {
   "cell_type": "markdown",
   "id": "84b7cb07",
   "metadata": {},
   "source": [
    "Ans = Here are the steps to install Python on Windows and set path variables:\n",
    "\n",
    "1. Go to the Python download page at https://www.python.org/downloads/ and download the latest version of Python for Windows.\n",
    "\n",
    "2. Run the installer and follow the installation wizard to install Python on your system. Make sure to check the \"Add Python to PATH\" option during installation.\n",
    "\n",
    "3. After the installation is complete, open the command prompt by pressing \"Windows + R\" and typing \"cmd\" in the \"Run\" dialog box.\n",
    "\n",
    "4. Type \"python\" in the command prompt and press Enter. If Python is installed correctly, you should see the Python version information.\n",
    "\n",
    "5. If you get an error that \"python is not recognized as an internal or external command\", you need to set the path variables. To set the path variables, right-click \"My Computer\" or \"This PC\" on the desktop or in the Start menu and select \"Properties\".\n",
    "\n",
    "6. Click on \"Advanced system settings\" in the left pane, then click on the \"Environment Variables\" button.\n",
    "\n",
    "7. In the \"System Variables\" section, scroll down and find the \"Path\" variable, then click on the \"Edit\" button.\n",
    "\n",
    "8. In the \"Edit Environment Variable\" dialog box, click on the \"New\" button and add the path to the Python installation directory, such as \"C:\\Python39\" (replace \"Python39\" with the version of Python you have installed).\n",
    "\n",
    "9. Click \"OK\" to close all the dialog boxes and save the changes.\n",
    "\n",
    "**Open a new command prompt window and type \"python\" to check if the path variables are set correctly.**"
   ]
  },
  {
   "cell_type": "markdown",
   "id": "73bc15b1",
   "metadata": {},
   "source": [
    "### Q16. Is indentation required in python?"
   ]
  },
  {
   "cell_type": "markdown",
   "id": "450e4db4",
   "metadata": {},
   "source": [
    "**Ans = Yes, indentation is required in Python.**"
   ]
  },
  {
   "cell_type": "code",
   "execution_count": null,
   "id": "8f6c0df7",
   "metadata": {},
   "outputs": [],
   "source": []
  }
 ],
 "metadata": {
  "kernelspec": {
   "display_name": "Python 3 (ipykernel)",
   "language": "python",
   "name": "python3"
  },
  "language_info": {
   "codemirror_mode": {
    "name": "ipython",
    "version": 3
   },
   "file_extension": ".py",
   "mimetype": "text/x-python",
   "name": "python",
   "nbconvert_exporter": "python",
   "pygments_lexer": "ipython3",
   "version": "3.10.7"
  }
 },
 "nbformat": 4,
 "nbformat_minor": 5
}
